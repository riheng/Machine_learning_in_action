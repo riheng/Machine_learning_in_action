{
 "cells": [
  {
   "cell_type": "markdown",
   "metadata": {},
   "source": [
    "# Classifying with K-Nearest Neighbors"
   ]
  },
  {
   "cell_type": "markdown",
   "metadata": {},
   "source": [
    "Prepare: import data with python"
   ]
  },
  {
   "cell_type": "code",
   "execution_count": 1,
   "metadata": {
    "collapsed": true
   },
   "outputs": [],
   "source": [
    "import numpy as np\n",
    "import operator # used in the KNN algorithm for sorting "
   ]
  },
  {
   "cell_type": "code",
   "execution_count": 8,
   "metadata": {
    "collapsed": true
   },
   "outputs": [],
   "source": [
    "def createDataSet():\n",
    "    group = np.array([[1.0,1.1],[1.0,1.0],[0,0],[0,0.1]])\n",
    "    labels = ['A','A','B','B']\n",
    "    return group, labels"
   ]
  },
  {
   "cell_type": "code",
   "execution_count": 9,
   "metadata": {
    "collapsed": false
   },
   "outputs": [
    {
     "data": {
      "text/plain": [
       "array([[ 1. ,  1.1],\n",
       "       [ 1. ,  1. ],\n",
       "       [ 0. ,  0. ],\n",
       "       [ 0. ,  0.1]])"
      ]
     },
     "execution_count": 9,
     "metadata": {},
     "output_type": "execute_result"
    }
   ],
   "source": [
    "group, labels = createDataSet()\n",
    "group"
   ]
  },
  {
   "cell_type": "markdown",
   "metadata": {},
   "source": [
    "## K-Nearest Neighbors algrorithm"
   ]
  },
  {
   "cell_type": "code",
   "execution_count": 25,
   "metadata": {
    "collapsed": true
   },
   "outputs": [],
   "source": [
    "# the input vector to classify called inX\n",
    "def classfy0(inX, dataSet, labels , k):\n",
    "    # 1. Distance calculation\n",
    "    dataSetSize = dataSet.shape[0]  # shape[0]读取矩阵第一维度的长度\n",
    "    diffMat = np.tile(inX,(dataSetSize,1)) - dataSet # tile(A,n) 将数组A重复n次，n可为元组类型\n",
    "    sqDiffMat = diffMat**2\n",
    "    sqDistances = sqDiffMat.sum(axis=1)  #axis=0表示一个向量相加，axis=1表示对应坐标相加 \n",
    "    distances = sqDistances**0.5\n",
    "    \n",
    "    #2. Voting with lowest k distances\n",
    "    sortedDistIndices = np.argsort(distances)  # argsort() 返回数组值从小到大的索引\n",
    "    classCount = {}\n",
    "    for i in range(k):\n",
    "        voterlabel = labels[sortedDistIndices[i]]\n",
    "        classCount[voterlabel] = classCount.get(voterlabel,0) + 1\n",
    "    \n",
    "    #3. sort dictionary    \n",
    "    sortedClassCount = sorted(classCount.items(), key = operator.itemgetter(1), reverse=True)  \n",
    "\n",
    "    return sortedClassCount[0][0]"
   ]
  },
  {
   "cell_type": "code",
   "execution_count": 26,
   "metadata": {
    "collapsed": false
   },
   "outputs": [
    {
     "name": "stdout",
     "output_type": "stream",
     "text": [
      "diffMat\n",
      " [[ 0.  -0.1]\n",
      " [ 0.   0. ]\n",
      " [ 1.   1. ]\n",
      " [ 1.   0.9]]\n",
      "distances\n",
      " [ 0.1         0.          1.41421356  1.3453624 ]\n",
      "classCount\n",
      " {'B': 1, 'A': 2}\n"
     ]
    },
    {
     "data": {
      "text/plain": [
       "'A'"
      ]
     },
     "execution_count": 26,
     "metadata": {},
     "output_type": "execute_result"
    }
   ],
   "source": [
    "classfy0([1,1], group, labels, 3)"
   ]
  },
  {
   "cell_type": "markdown",
   "metadata": {},
   "source": [
    "## inproving matches from a dating site with KNN"
   ]
  },
  {
   "cell_type": "code",
   "execution_count": null,
   "metadata": {
    "collapsed": true
   },
   "outputs": [],
   "source": [
    "# Text record to NumPy parsisng code\n",
    "def file2matrix(filename):\n",
    "    file = open(filename)\n",
    "    numberOfLines = len(file.readlines())"
   ]
  }
 ],
 "metadata": {
  "anaconda-cloud": {},
  "kernelspec": {
   "display_name": "Python [Root]",
   "language": "python",
   "name": "Python [Root]"
  },
  "language_info": {
   "codemirror_mode": {
    "name": "ipython",
    "version": 3
   },
   "file_extension": ".py",
   "mimetype": "text/x-python",
   "name": "python",
   "nbconvert_exporter": "python",
   "pygments_lexer": "ipython3",
   "version": "3.5.2"
  }
 },
 "nbformat": 4,
 "nbformat_minor": 0
}
